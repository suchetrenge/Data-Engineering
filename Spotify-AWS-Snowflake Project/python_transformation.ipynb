{
 "cells": [
  {
   "cell_type": "code",
   "execution_count": 124,
   "id": "58f3f865-05a7-4ff3-b86f-f0b1aa203d96",
   "metadata": {},
   "outputs": [
    {
     "name": "stdout",
     "output_type": "stream",
     "text": [
      "Requirement already satisfied: spotipy in /opt/conda/lib/python3.11/site-packages (2.25.1)\n",
      "Requirement already satisfied: redis>=3.5.3 in /opt/conda/lib/python3.11/site-packages (from spotipy) (5.2.1)\n",
      "Requirement already satisfied: requests>=2.25.0 in /opt/conda/lib/python3.11/site-packages (from spotipy) (2.31.0)\n",
      "Requirement already satisfied: urllib3>=1.26.0 in /opt/conda/lib/python3.11/site-packages (from spotipy) (2.0.7)\n",
      "Requirement already satisfied: charset-normalizer<4,>=2 in /opt/conda/lib/python3.11/site-packages (from requests>=2.25.0->spotipy) (3.3.0)\n",
      "Requirement already satisfied: idna<4,>=2.5 in /opt/conda/lib/python3.11/site-packages (from requests>=2.25.0->spotipy) (3.4)\n",
      "Requirement already satisfied: certifi>=2017.4.17 in /opt/conda/lib/python3.11/site-packages (from requests>=2.25.0->spotipy) (2023.7.22)\n"
     ]
    }
   ],
   "source": [
    "!pip install spotipy"
   ]
  },
  {
   "cell_type": "code",
   "execution_count": 125,
   "id": "3ef595aa-ce35-4d3e-993e-e3f01624e48c",
   "metadata": {
    "editable": true,
    "slideshow": {
     "slide_type": ""
    },
    "tags": []
   },
   "outputs": [],
   "source": [
    "import spotipy\n",
    "from spotipy.oauth2 import SpotifyClientCredentials\n",
    "import pandas as pd\n"
   ]
  },
  {
   "cell_type": "code",
   "execution_count": null,
   "id": "0aeb003b-d950-40cd-a975-3d03e4deacf6",
   "metadata": {},
   "outputs": [],
   "source": [
    "#add your keys here\n",
    "client_credentials_manager = SpotifyClientCredentials(client_id=\"<clint_id>\", client_secret=\"<client_secret>\")\n",
    "sp = spotipy.Spotify(client_credentials_manager = client_credentials_manager)"
   ]
  },
  {
   "cell_type": "code",
   "execution_count": 127,
   "id": "320d1b28-1b34-4aba-b318-fcefaa941b43",
   "metadata": {},
   "outputs": [],
   "source": [
    "playlist_URI = \"https://open.spotify.com/playlist/3bDJLJzvUBxBV4C7mezz6p\""
   ]
  },
  {
   "cell_type": "code",
   "execution_count": 128,
   "id": "721db89c-9baf-4fd1-8c0e-f9b87473b436",
   "metadata": {},
   "outputs": [],
   "source": [
    "playlist_id = playlist_URI.split('/')[-1]"
   ]
  },
  {
   "cell_type": "code",
   "execution_count": 129,
   "id": "b52cb9fb-4d2f-42c0-99fd-b0ffbce28d55",
   "metadata": {},
   "outputs": [
    {
     "name": "stderr",
     "output_type": "stream",
     "text": [
      "Couldn't read cache at: .cache\n",
      "Couldn't write token to cache at: .cache\n"
     ]
    }
   ],
   "source": [
    "playlists_result = sp.playlist(playlist_id)"
   ]
  },
  {
   "cell_type": "code",
   "execution_count": 130,
   "id": "affb417f-8493-4981-ae6f-981955ed208d",
   "metadata": {},
   "outputs": [],
   "source": [
    "artist_list = []\n",
    "for row in playlists_result['tracks']['items']:\n",
    "    for key, value in row.items():\n",
    "        if key == \"track\":\n",
    "            for artist in value['artists']:\n",
    "                artist_dict = {'artist_id':artist['id'], 'artist_name':artist['name'], 'external_url': artist['href']}\n",
    "                artist_list.append(artist_dict)"
   ]
  },
  {
   "cell_type": "code",
   "execution_count": 131,
   "id": "67a9660e-b5e4-4dd3-877a-ae71114281fe",
   "metadata": {
    "scrolled": true
   },
   "outputs": [],
   "source": [
    "song_list = []\n",
    "for row in playlists_result['tracks']['items']:\n",
    "    song_id = row['track']['id']\n",
    "    song_name = row['track']['name']\n",
    "    song_duration = row['track']['duration_ms']\n",
    "    song_url = row['track']['external_urls']['spotify']\n",
    "    song_popularity = row['track']['popularity']\n",
    "    song_added = row['added_at']\n",
    "    album_id = row['track']['album']['id']\n",
    "    artist_id = row['track']['album']['artists'][0]['id']\n",
    "    song_element = {'song_id':song_id,'song_name':song_name,'duration_ms':song_duration,'url':song_url,\n",
    "                    'popularity':song_popularity,'song_added':song_added,'album_id':album_id,\n",
    "                    'artist_id':artist_id\n",
    "                   }\n",
    "    song_list.append(song_element)"
   ]
  },
  {
   "cell_type": "code",
   "execution_count": 132,
   "id": "fb613043-4744-487f-9d84-fa478da194eb",
   "metadata": {},
   "outputs": [],
   "source": [
    "album_list = []\n",
    "for row in playlists_result['tracks']['items']:\n",
    "    album_id = row['track']['album']['id']\n",
    "    album_name = row['track']['album']['name']\n",
    "    album_release_date = row['track']['album']['release_date']\n",
    "    album_total_tracks = row['track']['album']['total_tracks']\n",
    "    album_url = row['track']['album']['external_urls']['spotify']\n",
    "    album_element = {'album_id':album_id,'name':album_name,'release_date':album_release_date,\n",
    "                        'total_tracks':album_total_tracks,'url':album_url}\n",
    "    album_list.append(album_element)"
   ]
  },
  {
   "cell_type": "code",
   "execution_count": 133,
   "id": "20c2e809-8576-47ed-b984-64367ebe3f51",
   "metadata": {},
   "outputs": [],
   "source": [
    "album_df = pd.DataFrame.from_dict(album_list)"
   ]
  },
  {
   "cell_type": "code",
   "execution_count": 134,
   "id": "22ae8569-5037-4532-8051-53b60461c288",
   "metadata": {},
   "outputs": [
    {
     "data": {
      "text/html": [
       "<div>\n",
       "<style scoped>\n",
       "    .dataframe tbody tr th:only-of-type {\n",
       "        vertical-align: middle;\n",
       "    }\n",
       "\n",
       "    .dataframe tbody tr th {\n",
       "        vertical-align: top;\n",
       "    }\n",
       "\n",
       "    .dataframe thead th {\n",
       "        text-align: right;\n",
       "    }\n",
       "</style>\n",
       "<table border=\"1\" class=\"dataframe\">\n",
       "  <thead>\n",
       "    <tr style=\"text-align: right;\">\n",
       "      <th></th>\n",
       "      <th>album_id</th>\n",
       "      <th>name</th>\n",
       "      <th>release_date</th>\n",
       "      <th>total_tracks</th>\n",
       "      <th>url</th>\n",
       "    </tr>\n",
       "  </thead>\n",
       "  <tbody>\n",
       "    <tr>\n",
       "      <th>0</th>\n",
       "      <td>75SlrAXlLbJN9LYJwlTJh6</td>\n",
       "      <td>Mismatched: Season 3 (Soundtrack from the Netf...</td>\n",
       "      <td>2024-12-03</td>\n",
       "      <td>12</td>\n",
       "      <td>https://open.spotify.com/album/75SlrAXlLbJN9LY...</td>\n",
       "    </tr>\n",
       "    <tr>\n",
       "      <th>1</th>\n",
       "      <td>2yYfIOq25JQWvUQ9AR172D</td>\n",
       "      <td>Sanam Teri Kasam (Original Motion Picture Soun...</td>\n",
       "      <td>2016-01-06</td>\n",
       "      <td>9</td>\n",
       "      <td>https://open.spotify.com/album/2yYfIOq25JQWvUQ...</td>\n",
       "    </tr>\n",
       "    <tr>\n",
       "      <th>2</th>\n",
       "      <td>1poClftP5T3zRcqpsxPPfW</td>\n",
       "      <td>Raanjhan (From \"Do Patti\")</td>\n",
       "      <td>2024-10-04</td>\n",
       "      <td>1</td>\n",
       "      <td>https://open.spotify.com/album/1poClftP5T3zRcq...</td>\n",
       "    </tr>\n",
       "    <tr>\n",
       "      <th>3</th>\n",
       "      <td>0upenH0uUT36nBbVM5mQhW</td>\n",
       "      <td>Jo Tum Mere Ho</td>\n",
       "      <td>2024-08-02</td>\n",
       "      <td>1</td>\n",
       "      <td>https://open.spotify.com/album/0upenH0uUT36nBb...</td>\n",
       "    </tr>\n",
       "    <tr>\n",
       "      <th>4</th>\n",
       "      <td>2yYfIOq25JQWvUQ9AR172D</td>\n",
       "      <td>Sanam Teri Kasam (Original Motion Picture Soun...</td>\n",
       "      <td>2016-01-06</td>\n",
       "      <td>9</td>\n",
       "      <td>https://open.spotify.com/album/2yYfIOq25JQWvUQ...</td>\n",
       "    </tr>\n",
       "  </tbody>\n",
       "</table>\n",
       "</div>"
      ],
      "text/plain": [
       "                 album_id                                               name  \\\n",
       "0  75SlrAXlLbJN9LYJwlTJh6  Mismatched: Season 3 (Soundtrack from the Netf...   \n",
       "1  2yYfIOq25JQWvUQ9AR172D  Sanam Teri Kasam (Original Motion Picture Soun...   \n",
       "2  1poClftP5T3zRcqpsxPPfW                         Raanjhan (From \"Do Patti\")   \n",
       "3  0upenH0uUT36nBbVM5mQhW                                     Jo Tum Mere Ho   \n",
       "4  2yYfIOq25JQWvUQ9AR172D  Sanam Teri Kasam (Original Motion Picture Soun...   \n",
       "\n",
       "  release_date  total_tracks  \\\n",
       "0   2024-12-03            12   \n",
       "1   2016-01-06             9   \n",
       "2   2024-10-04             1   \n",
       "3   2024-08-02             1   \n",
       "4   2016-01-06             9   \n",
       "\n",
       "                                                 url  \n",
       "0  https://open.spotify.com/album/75SlrAXlLbJN9LY...  \n",
       "1  https://open.spotify.com/album/2yYfIOq25JQWvUQ...  \n",
       "2  https://open.spotify.com/album/1poClftP5T3zRcq...  \n",
       "3  https://open.spotify.com/album/0upenH0uUT36nBb...  \n",
       "4  https://open.spotify.com/album/2yYfIOq25JQWvUQ...  "
      ]
     },
     "execution_count": 134,
     "metadata": {},
     "output_type": "execute_result"
    }
   ],
   "source": [
    "album_df.head()"
   ]
  },
  {
   "cell_type": "code",
   "execution_count": 135,
   "id": "8b35a5fa-f974-4f64-a62e-d7bd1aec96da",
   "metadata": {},
   "outputs": [],
   "source": [
    "album_df = album_df.drop_duplicates(subset=['album_id'])"
   ]
  },
  {
   "cell_type": "code",
   "execution_count": 136,
   "id": "aaf7f3b6-f676-4a78-8bed-5c35031659c6",
   "metadata": {},
   "outputs": [],
   "source": [
    "#Artist Dataframe\n",
    "artist_df = pd.DataFrame.from_dict(artist_list)\n",
    "artist_df = artist_df.drop_duplicates(subset=['artist_id'])"
   ]
  },
  {
   "cell_type": "code",
   "execution_count": 137,
   "id": "3f5cf55e-e97d-4954-aed4-51525730a584",
   "metadata": {},
   "outputs": [],
   "source": [
    "#Song Dataframe\n",
    "song_df = pd.DataFrame.from_dict(song_list)"
   ]
  },
  {
   "cell_type": "code",
   "execution_count": 138,
   "id": "ec5d0a9f-0439-41e4-9202-0c0835e33d38",
   "metadata": {},
   "outputs": [],
   "source": [
    "album_df['release_date'] = pd.to_datetime(album_df['release_date'], format='mixed', errors='coerce')"
   ]
  },
  {
   "cell_type": "code",
   "execution_count": 139,
   "id": "0a35c7ed-df4a-439d-a1b0-770b04832db2",
   "metadata": {},
   "outputs": [],
   "source": [
    "song_df['song_added'] =  pd.to_datetime(song_df['song_added'])"
   ]
  },
  {
   "cell_type": "code",
   "execution_count": null,
   "id": "10400ef8-677b-4b25-be16-d4a5494b9fb0",
   "metadata": {},
   "outputs": [],
   "source": []
  }
 ],
 "metadata": {
  "kernelspec": {
   "display_name": "Python 3 (ipykernel)",
   "language": "python",
   "name": "python3"
  },
  "language_info": {
   "codemirror_mode": {
    "name": "ipython",
    "version": 3
   },
   "file_extension": ".py",
   "mimetype": "text/x-python",
   "name": "python",
   "nbconvert_exporter": "python",
   "pygments_lexer": "ipython3",
   "version": "3.11.6"
  }
 },
 "nbformat": 4,
 "nbformat_minor": 5
}
