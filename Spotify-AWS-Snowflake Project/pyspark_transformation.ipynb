{
 "cells": [
  {
   "cell_type": "code",
   "execution_count": 8,
   "id": "8279caf1-e1fe-4456-8723-65526ba7c448",
   "metadata": {},
   "outputs": [],
   "source": [
    "from pyspark.sql import SparkSession\n",
    "from pyspark.sql.functions import explode,col, to_date"
   ]
  },
  {
   "cell_type": "code",
   "execution_count": 14,
   "id": "5aa9a30e-76fa-4b33-a48a-f5e7bcb7935f",
   "metadata": {},
   "outputs": [
    {
     "name": "stdout",
     "output_type": "stream",
     "text": [
      "Collecting prettytable\n",
      "  Downloading prettytable-3.15.1-py3-none-any.whl.metadata (33 kB)\n",
      "Requirement already satisfied: wcwidth in /opt/conda/lib/python3.11/site-packages (from prettytable) (0.2.8)\n",
      "Downloading prettytable-3.15.1-py3-none-any.whl (33 kB)\n",
      "Installing collected packages: prettytable\n",
      "Successfully installed prettytable-3.15.1\n"
     ]
    }
   ],
   "source": [
    "!pip install prettytable"
   ]
  },
  {
   "cell_type": "code",
   "execution_count": 1,
   "id": "cdf5205a-c408-45d5-94a6-50b936f0a26d",
   "metadata": {},
   "outputs": [],
   "source": [
    "\n",
    "# Create SparkSession \n",
    "spark = SparkSession.builder \\\n",
    "      .master(\"local[1]\") \\\n",
    "      .appName(\"SparkByExamples.com\") \\\n",
    "      .getOrCreate() "
   ]
  },
  {
   "cell_type": "code",
   "execution_count": 28,
   "id": "f74db67a-4562-464a-9a9d-a865a63c64b9",
   "metadata": {},
   "outputs": [],
   "source": [
    "df = spark.read.format(\"json\").load(\"data/\").select(\"tracks\")"
   ]
  },
  {
   "cell_type": "code",
   "execution_count": 47,
   "id": "202af2e6-a90c-4a16-affe-4f6aa08cf4e7",
   "metadata": {
    "collapsed": true,
    "jupyter": {
     "outputs_hidden": true
    }
   },
   "outputs": [
    {
     "name": "stdout",
     "output_type": "stream",
     "text": [
      "root\n",
      " |-- tracks: struct (nullable = true)\n",
      " |    |-- href: string (nullable = true)\n",
      " |    |-- items: array (nullable = true)\n",
      " |    |    |-- element: struct (containsNull = true)\n",
      " |    |    |    |-- added_at: string (nullable = true)\n",
      " |    |    |    |-- added_by: struct (nullable = true)\n",
      " |    |    |    |    |-- external_urls: struct (nullable = true)\n",
      " |    |    |    |    |    |-- spotify: string (nullable = true)\n",
      " |    |    |    |    |-- href: string (nullable = true)\n",
      " |    |    |    |    |-- id: string (nullable = true)\n",
      " |    |    |    |    |-- type: string (nullable = true)\n",
      " |    |    |    |    |-- uri: string (nullable = true)\n",
      " |    |    |    |-- is_local: boolean (nullable = true)\n",
      " |    |    |    |-- primary_color: string (nullable = true)\n",
      " |    |    |    |-- track: struct (nullable = true)\n",
      " |    |    |    |    |-- album: struct (nullable = true)\n",
      " |    |    |    |    |    |-- album_type: string (nullable = true)\n",
      " |    |    |    |    |    |-- artists: array (nullable = true)\n",
      " |    |    |    |    |    |    |-- element: struct (containsNull = true)\n",
      " |    |    |    |    |    |    |    |-- external_urls: struct (nullable = true)\n",
      " |    |    |    |    |    |    |    |    |-- spotify: string (nullable = true)\n",
      " |    |    |    |    |    |    |    |-- href: string (nullable = true)\n",
      " |    |    |    |    |    |    |    |-- id: string (nullable = true)\n",
      " |    |    |    |    |    |    |    |-- name: string (nullable = true)\n",
      " |    |    |    |    |    |    |    |-- type: string (nullable = true)\n",
      " |    |    |    |    |    |    |    |-- uri: string (nullable = true)\n",
      " |    |    |    |    |    |-- available_markets: array (nullable = true)\n",
      " |    |    |    |    |    |    |-- element: string (containsNull = true)\n",
      " |    |    |    |    |    |-- external_urls: struct (nullable = true)\n",
      " |    |    |    |    |    |    |-- spotify: string (nullable = true)\n",
      " |    |    |    |    |    |-- href: string (nullable = true)\n",
      " |    |    |    |    |    |-- id: string (nullable = true)\n",
      " |    |    |    |    |    |-- images: array (nullable = true)\n",
      " |    |    |    |    |    |    |-- element: struct (containsNull = true)\n",
      " |    |    |    |    |    |    |    |-- height: long (nullable = true)\n",
      " |    |    |    |    |    |    |    |-- url: string (nullable = true)\n",
      " |    |    |    |    |    |    |    |-- width: long (nullable = true)\n",
      " |    |    |    |    |    |-- name: string (nullable = true)\n",
      " |    |    |    |    |    |-- release_date: string (nullable = true)\n",
      " |    |    |    |    |    |-- release_date_precision: string (nullable = true)\n",
      " |    |    |    |    |    |-- total_tracks: long (nullable = true)\n",
      " |    |    |    |    |    |-- type: string (nullable = true)\n",
      " |    |    |    |    |    |-- uri: string (nullable = true)\n",
      " |    |    |    |    |-- artists: array (nullable = true)\n",
      " |    |    |    |    |    |-- element: struct (containsNull = true)\n",
      " |    |    |    |    |    |    |-- external_urls: struct (nullable = true)\n",
      " |    |    |    |    |    |    |    |-- spotify: string (nullable = true)\n",
      " |    |    |    |    |    |    |-- href: string (nullable = true)\n",
      " |    |    |    |    |    |    |-- id: string (nullable = true)\n",
      " |    |    |    |    |    |    |-- name: string (nullable = true)\n",
      " |    |    |    |    |    |    |-- type: string (nullable = true)\n",
      " |    |    |    |    |    |    |-- uri: string (nullable = true)\n",
      " |    |    |    |    |-- available_markets: array (nullable = true)\n",
      " |    |    |    |    |    |-- element: string (containsNull = true)\n",
      " |    |    |    |    |-- disc_number: long (nullable = true)\n",
      " |    |    |    |    |-- duration_ms: long (nullable = true)\n",
      " |    |    |    |    |-- episode: boolean (nullable = true)\n",
      " |    |    |    |    |-- explicit: boolean (nullable = true)\n",
      " |    |    |    |    |-- external_ids: struct (nullable = true)\n",
      " |    |    |    |    |    |-- isrc: string (nullable = true)\n",
      " |    |    |    |    |-- external_urls: struct (nullable = true)\n",
      " |    |    |    |    |    |-- spotify: string (nullable = true)\n",
      " |    |    |    |    |-- href: string (nullable = true)\n",
      " |    |    |    |    |-- id: string (nullable = true)\n",
      " |    |    |    |    |-- is_local: boolean (nullable = true)\n",
      " |    |    |    |    |-- name: string (nullable = true)\n",
      " |    |    |    |    |-- popularity: long (nullable = true)\n",
      " |    |    |    |    |-- preview_url: string (nullable = true)\n",
      " |    |    |    |    |-- track: boolean (nullable = true)\n",
      " |    |    |    |    |-- track_number: long (nullable = true)\n",
      " |    |    |    |    |-- type: string (nullable = true)\n",
      " |    |    |    |    |-- uri: string (nullable = true)\n",
      " |    |    |    |-- video_thumbnail: struct (nullable = true)\n",
      " |    |    |    |    |-- url: string (nullable = true)\n",
      " |    |-- limit: long (nullable = true)\n",
      " |    |-- next: string (nullable = true)\n",
      " |    |-- offset: long (nullable = true)\n",
      " |    |-- previous: string (nullable = true)\n",
      " |    |-- total: long (nullable = true)\n",
      "\n"
     ]
    }
   ],
   "source": [
    "df.printSchema()"
   ]
  },
  {
   "cell_type": "code",
   "execution_count": 57,
   "id": "9ef02d0c-76f1-420d-8252-2098e9580485",
   "metadata": {},
   "outputs": [],
   "source": [
    "# df_data = df.withColumn(\"items\",explode(\"tracks.items\")).select(\"items\")\n",
    "df_data = df.withColumn(\"tracks_items\",col(\"tracks.items\")).select(\"tracks_items\")\n"
   ]
  },
  {
   "cell_type": "code",
   "execution_count": 58,
   "id": "24ec1032-c873-49f7-bcff-c6e8bbd6cf7b",
   "metadata": {
    "collapsed": true,
    "jupyter": {
     "outputs_hidden": true
    },
    "scrolled": true
   },
   "outputs": [
    {
     "name": "stdout",
     "output_type": "stream",
     "text": [
      "root\n",
      " |-- tracks_items: array (nullable = true)\n",
      " |    |-- element: struct (containsNull = true)\n",
      " |    |    |-- added_at: string (nullable = true)\n",
      " |    |    |-- added_by: struct (nullable = true)\n",
      " |    |    |    |-- external_urls: struct (nullable = true)\n",
      " |    |    |    |    |-- spotify: string (nullable = true)\n",
      " |    |    |    |-- href: string (nullable = true)\n",
      " |    |    |    |-- id: string (nullable = true)\n",
      " |    |    |    |-- type: string (nullable = true)\n",
      " |    |    |    |-- uri: string (nullable = true)\n",
      " |    |    |-- is_local: boolean (nullable = true)\n",
      " |    |    |-- primary_color: string (nullable = true)\n",
      " |    |    |-- track: struct (nullable = true)\n",
      " |    |    |    |-- album: struct (nullable = true)\n",
      " |    |    |    |    |-- album_type: string (nullable = true)\n",
      " |    |    |    |    |-- artists: array (nullable = true)\n",
      " |    |    |    |    |    |-- element: struct (containsNull = true)\n",
      " |    |    |    |    |    |    |-- external_urls: struct (nullable = true)\n",
      " |    |    |    |    |    |    |    |-- spotify: string (nullable = true)\n",
      " |    |    |    |    |    |    |-- href: string (nullable = true)\n",
      " |    |    |    |    |    |    |-- id: string (nullable = true)\n",
      " |    |    |    |    |    |    |-- name: string (nullable = true)\n",
      " |    |    |    |    |    |    |-- type: string (nullable = true)\n",
      " |    |    |    |    |    |    |-- uri: string (nullable = true)\n",
      " |    |    |    |    |-- available_markets: array (nullable = true)\n",
      " |    |    |    |    |    |-- element: string (containsNull = true)\n",
      " |    |    |    |    |-- external_urls: struct (nullable = true)\n",
      " |    |    |    |    |    |-- spotify: string (nullable = true)\n",
      " |    |    |    |    |-- href: string (nullable = true)\n",
      " |    |    |    |    |-- id: string (nullable = true)\n",
      " |    |    |    |    |-- images: array (nullable = true)\n",
      " |    |    |    |    |    |-- element: struct (containsNull = true)\n",
      " |    |    |    |    |    |    |-- height: long (nullable = true)\n",
      " |    |    |    |    |    |    |-- url: string (nullable = true)\n",
      " |    |    |    |    |    |    |-- width: long (nullable = true)\n",
      " |    |    |    |    |-- name: string (nullable = true)\n",
      " |    |    |    |    |-- release_date: string (nullable = true)\n",
      " |    |    |    |    |-- release_date_precision: string (nullable = true)\n",
      " |    |    |    |    |-- total_tracks: long (nullable = true)\n",
      " |    |    |    |    |-- type: string (nullable = true)\n",
      " |    |    |    |    |-- uri: string (nullable = true)\n",
      " |    |    |    |-- artists: array (nullable = true)\n",
      " |    |    |    |    |-- element: struct (containsNull = true)\n",
      " |    |    |    |    |    |-- external_urls: struct (nullable = true)\n",
      " |    |    |    |    |    |    |-- spotify: string (nullable = true)\n",
      " |    |    |    |    |    |-- href: string (nullable = true)\n",
      " |    |    |    |    |    |-- id: string (nullable = true)\n",
      " |    |    |    |    |    |-- name: string (nullable = true)\n",
      " |    |    |    |    |    |-- type: string (nullable = true)\n",
      " |    |    |    |    |    |-- uri: string (nullable = true)\n",
      " |    |    |    |-- available_markets: array (nullable = true)\n",
      " |    |    |    |    |-- element: string (containsNull = true)\n",
      " |    |    |    |-- disc_number: long (nullable = true)\n",
      " |    |    |    |-- duration_ms: long (nullable = true)\n",
      " |    |    |    |-- episode: boolean (nullable = true)\n",
      " |    |    |    |-- explicit: boolean (nullable = true)\n",
      " |    |    |    |-- external_ids: struct (nullable = true)\n",
      " |    |    |    |    |-- isrc: string (nullable = true)\n",
      " |    |    |    |-- external_urls: struct (nullable = true)\n",
      " |    |    |    |    |-- spotify: string (nullable = true)\n",
      " |    |    |    |-- href: string (nullable = true)\n",
      " |    |    |    |-- id: string (nullable = true)\n",
      " |    |    |    |-- is_local: boolean (nullable = true)\n",
      " |    |    |    |-- name: string (nullable = true)\n",
      " |    |    |    |-- popularity: long (nullable = true)\n",
      " |    |    |    |-- preview_url: string (nullable = true)\n",
      " |    |    |    |-- track: boolean (nullable = true)\n",
      " |    |    |    |-- track_number: long (nullable = true)\n",
      " |    |    |    |-- type: string (nullable = true)\n",
      " |    |    |    |-- uri: string (nullable = true)\n",
      " |    |    |-- video_thumbnail: struct (nullable = true)\n",
      " |    |    |    |-- url: string (nullable = true)\n",
      "\n"
     ]
    }
   ],
   "source": [
    "df_data.printSchema()"
   ]
  },
  {
   "cell_type": "code",
   "execution_count": 59,
   "id": "c0953a9d-c242-4c4c-91ec-5c5dba8f070b",
   "metadata": {},
   "outputs": [],
   "source": [
    "df_items = df_data.withColumn(\"items\",explode(\"tracks_items\")).select(\"items\")"
   ]
  },
  {
   "cell_type": "code",
   "execution_count": 67,
   "id": "400942fe-ae4a-4b74-8d94-cbded1ea020a",
   "metadata": {
    "collapsed": true,
    "jupyter": {
     "outputs_hidden": true
    }
   },
   "outputs": [
    {
     "name": "stdout",
     "output_type": "stream",
     "text": [
      "root\n",
      " |-- items: struct (nullable = true)\n",
      " |    |-- added_at: string (nullable = true)\n",
      " |    |-- added_by: struct (nullable = true)\n",
      " |    |    |-- external_urls: struct (nullable = true)\n",
      " |    |    |    |-- spotify: string (nullable = true)\n",
      " |    |    |-- href: string (nullable = true)\n",
      " |    |    |-- id: string (nullable = true)\n",
      " |    |    |-- type: string (nullable = true)\n",
      " |    |    |-- uri: string (nullable = true)\n",
      " |    |-- is_local: boolean (nullable = true)\n",
      " |    |-- primary_color: string (nullable = true)\n",
      " |    |-- track: struct (nullable = true)\n",
      " |    |    |-- album: struct (nullable = true)\n",
      " |    |    |    |-- album_type: string (nullable = true)\n",
      " |    |    |    |-- artists: array (nullable = true)\n",
      " |    |    |    |    |-- element: struct (containsNull = true)\n",
      " |    |    |    |    |    |-- external_urls: struct (nullable = true)\n",
      " |    |    |    |    |    |    |-- spotify: string (nullable = true)\n",
      " |    |    |    |    |    |-- href: string (nullable = true)\n",
      " |    |    |    |    |    |-- id: string (nullable = true)\n",
      " |    |    |    |    |    |-- name: string (nullable = true)\n",
      " |    |    |    |    |    |-- type: string (nullable = true)\n",
      " |    |    |    |    |    |-- uri: string (nullable = true)\n",
      " |    |    |    |-- available_markets: array (nullable = true)\n",
      " |    |    |    |    |-- element: string (containsNull = true)\n",
      " |    |    |    |-- external_urls: struct (nullable = true)\n",
      " |    |    |    |    |-- spotify: string (nullable = true)\n",
      " |    |    |    |-- href: string (nullable = true)\n",
      " |    |    |    |-- id: string (nullable = true)\n",
      " |    |    |    |-- images: array (nullable = true)\n",
      " |    |    |    |    |-- element: struct (containsNull = true)\n",
      " |    |    |    |    |    |-- height: long (nullable = true)\n",
      " |    |    |    |    |    |-- url: string (nullable = true)\n",
      " |    |    |    |    |    |-- width: long (nullable = true)\n",
      " |    |    |    |-- name: string (nullable = true)\n",
      " |    |    |    |-- release_date: string (nullable = true)\n",
      " |    |    |    |-- release_date_precision: string (nullable = true)\n",
      " |    |    |    |-- total_tracks: long (nullable = true)\n",
      " |    |    |    |-- type: string (nullable = true)\n",
      " |    |    |    |-- uri: string (nullable = true)\n",
      " |    |    |-- artists: array (nullable = true)\n",
      " |    |    |    |-- element: struct (containsNull = true)\n",
      " |    |    |    |    |-- external_urls: struct (nullable = true)\n",
      " |    |    |    |    |    |-- spotify: string (nullable = true)\n",
      " |    |    |    |    |-- href: string (nullable = true)\n",
      " |    |    |    |    |-- id: string (nullable = true)\n",
      " |    |    |    |    |-- name: string (nullable = true)\n",
      " |    |    |    |    |-- type: string (nullable = true)\n",
      " |    |    |    |    |-- uri: string (nullable = true)\n",
      " |    |    |-- available_markets: array (nullable = true)\n",
      " |    |    |    |-- element: string (containsNull = true)\n",
      " |    |    |-- disc_number: long (nullable = true)\n",
      " |    |    |-- duration_ms: long (nullable = true)\n",
      " |    |    |-- episode: boolean (nullable = true)\n",
      " |    |    |-- explicit: boolean (nullable = true)\n",
      " |    |    |-- external_ids: struct (nullable = true)\n",
      " |    |    |    |-- isrc: string (nullable = true)\n",
      " |    |    |-- external_urls: struct (nullable = true)\n",
      " |    |    |    |-- spotify: string (nullable = true)\n",
      " |    |    |-- href: string (nullable = true)\n",
      " |    |    |-- id: string (nullable = true)\n",
      " |    |    |-- is_local: boolean (nullable = true)\n",
      " |    |    |-- name: string (nullable = true)\n",
      " |    |    |-- popularity: long (nullable = true)\n",
      " |    |    |-- preview_url: string (nullable = true)\n",
      " |    |    |-- track: boolean (nullable = true)\n",
      " |    |    |-- track_number: long (nullable = true)\n",
      " |    |    |-- type: string (nullable = true)\n",
      " |    |    |-- uri: string (nullable = true)\n",
      " |    |-- video_thumbnail: struct (nullable = true)\n",
      " |    |    |-- url: string (nullable = true)\n",
      "\n"
     ]
    }
   ],
   "source": [
    "df_items.printSchema()"
   ]
  },
  {
   "cell_type": "code",
   "execution_count": 78,
   "id": "1281fcff-5110-4af6-8a4c-848604ddb224",
   "metadata": {},
   "outputs": [],
   "source": [
    "# Album df\n",
    "df_album = df_items.withColumn(\"album_id\",col(\"items.track.album.id\"))\\\n",
    "            .withColumn(\"album_name\",col(\"items.track.album.name\"))\\\n",
    "            .withColumn(\"album_release_date\",col(\"items.track.album.release_date\"))\\\n",
    "            .withColumn(\"album_total_tracks\",col(\"items.track.album.total_tracks\"))\\\n",
    "            .withColumn(\"album_url\",col(\"items.track.album.external_urls.spotify\"))\\\n",
    "            .select(\"album_id\",\"album_name\",\"album_release_date\",\"album_total_tracks\",\"album_url\")"
   ]
  },
  {
   "cell_type": "code",
   "execution_count": 79,
   "id": "d64a5bda-35c9-4b55-b42a-7c8186729e4c",
   "metadata": {
    "collapsed": true,
    "jupyter": {
     "outputs_hidden": true
    }
   },
   "outputs": [
    {
     "name": "stdout",
     "output_type": "stream",
     "text": [
      "+----------------------+---------------------------------------------------------+------------------+------------------+-----------------------------------------------------+\n",
      "|album_id              |album_name                                               |album_release_date|album_total_tracks|album_url                                            |\n",
      "+----------------------+---------------------------------------------------------+------------------+------------------+-----------------------------------------------------+\n",
      "|75SlrAXlLbJN9LYJwlTJh6|Mismatched: Season 3 (Soundtrack from the Netflix Series)|2024-12-03        |12                |https://open.spotify.com/album/75SlrAXlLbJN9LYJwlTJh6|\n",
      "|2yYfIOq25JQWvUQ9AR172D|Sanam Teri Kasam (Original Motion Picture Soundtrack)    |2016-01-06        |9                 |https://open.spotify.com/album/2yYfIOq25JQWvUQ9AR172D|\n",
      "|1poClftP5T3zRcqpsxPPfW|Raanjhan (From \"Do Patti\")                               |2024-10-04        |1                 |https://open.spotify.com/album/1poClftP5T3zRcqpsxPPfW|\n",
      "|0upenH0uUT36nBbVM5mQhW|Jo Tum Mere Ho                                           |2024-08-02        |1                 |https://open.spotify.com/album/0upenH0uUT36nBbVM5mQhW|\n",
      "|2yYfIOq25JQWvUQ9AR172D|Sanam Teri Kasam (Original Motion Picture Soundtrack)    |2016-01-06        |9                 |https://open.spotify.com/album/2yYfIOq25JQWvUQ9AR172D|\n",
      "|7grtFo2pj5wwRTM7c6NI9y|Jhol                                                     |2024-06-14        |1                 |https://open.spotify.com/album/7grtFo2pj5wwRTM7c6NI9y|\n",
      "|6ZMuCAqePedPc7w0rRTQMO|Kole Bheja                                               |2024-08-28        |1                 |https://open.spotify.com/album/6ZMuCAqePedPc7w0rRTQMO|\n",
      "|5ZbqiWukRFxq8zwllvK3YT|Sahiba                                                   |2024-11-15        |1                 |https://open.spotify.com/album/5ZbqiWukRFxq8zwllvK3YT|\n",
      "|0RaKe6idrXFUXsqxU4VmPa|Afsos                                                    |2025-01-31        |1                 |https://open.spotify.com/album/0RaKe6idrXFUXsqxU4VmPa|\n",
      "|49shWTH1llwLbKQ1bq1cvJ|Ishq (From \"Lost;Found\")                                 |2024-03-09        |1                 |https://open.spotify.com/album/49shWTH1llwLbKQ1bq1cvJ|\n",
      "|7FiRTB1EBLdaarSWkxjvqC|Tu Hain Toh Main Hoon (From \"Sky Force\")                 |2025-01-22        |1                 |https://open.spotify.com/album/7FiRTB1EBLdaarSWkxjvqC|\n",
      "|4FjR8sS5OickJ0OkXmOEXX|Sitara                                                   |2024-11-15        |1                 |https://open.spotify.com/album/4FjR8sS5OickJ0OkXmOEXX|\n",
      "|3I3kZyHUtEA9Y59rJkxtk6|Sajni (From \"Laapataa Ladies\")                           |2024-02-12        |1                 |https://open.spotify.com/album/3I3kZyHUtEA9Y59rJkxtk6|\n",
      "|2yYfIOq25JQWvUQ9AR172D|Sanam Teri Kasam (Original Motion Picture Soundtrack)    |2016-01-06        |9                 |https://open.spotify.com/album/2yYfIOq25JQWvUQ9AR172D|\n",
      "|3I8PdIhk6pNm8Kv0HiF14V|Tujhe Kitna Chahne Lage (From \"Kabir Singh\")             |2019-05-31        |1                 |https://open.spotify.com/album/3I8PdIhk6pNm8Kv0HiF14V|\n",
      "|12sC6UjMWz6EaxnzyfCNMe|Bhediya (Original Motion Picture Soundtrack)             |2022-11-22        |6                 |https://open.spotify.com/album/12sC6UjMWz6EaxnzyfCNMe|\n",
      "|4o56npry49dSKODtdRzWZM|Kaaton                                                   |2025-01-30        |1                 |https://open.spotify.com/album/4o56npry49dSKODtdRzWZM|\n",
      "|4OYdTHNgjhXzgVjbqsb0tO|Jab We Met                                               |2007-09-21        |10                |https://open.spotify.com/album/4OYdTHNgjhXzgVjbqsb0tO|\n",
      "|2P2orRpVU0F2Z1HGTi7AiS|Aaj Ki Raat (From \"Stree 2\")                             |2024-07-24        |1                 |https://open.spotify.com/album/2P2orRpVU0F2Z1HGTi7AiS|\n",
      "|5KF4xCxDD8ip003hoatFT9|Glory                                                    |2024-08-26        |18                |https://open.spotify.com/album/5KF4xCxDD8ip003hoatFT9|\n",
      "+----------------------+---------------------------------------------------------+------------------+------------------+-----------------------------------------------------+\n",
      "only showing top 20 rows\n",
      "\n"
     ]
    }
   ],
   "source": [
    "df_album.show(truncate=False)"
   ]
  },
  {
   "cell_type": "code",
   "execution_count": 90,
   "id": "bf4ab8dc-7cb2-446d-a1ca-fac00d6f058d",
   "metadata": {},
   "outputs": [],
   "source": [
    "# Songs df\n",
    "df_songs = df_items.withColumn(\"song_id\",col(\"items.track.id\"))\\\n",
    "            .withColumn(\"song_name\",col(\"items.track.name\"))\\\n",
    "            .withColumn(\"song_duration\",col(\"items.track.duration_ms\"))\\\n",
    "            .withColumn(\"song_url\",col(\"items.track.external_urls.spotify\"))\\\n",
    "            .withColumn(\"song_popularity\",col(\"items.track.popularity\"))\\\n",
    "            .withColumn(\"song_added\",col(\"items.added_at\"))\\\n",
    "            .withColumn(\"album_id\",col(\"items.track.album.id\"))\\\n",
    "            .withColumn(\"artist_id\",col(\"items.track.album.artists\").getItem(0).getItem(\"id\"))\\\n",
    "            .select(\"song_id\",\"song_name\",\"song_duration\",\"song_url\",\"song_popularity\",\"song_added\",\"album_id\",\"artist_id\")\n",
    "\n",
    "            # .withColumn(\"artist_id\",col(\"items.track.album.external_urls.spotify\"))\\"
   ]
  },
  {
   "cell_type": "code",
   "execution_count": 91,
   "id": "6be4ecd8-38ee-4cf7-b799-9fc130263c28",
   "metadata": {
    "scrolled": true
   },
   "outputs": [
    {
     "name": "stdout",
     "output_type": "stream",
     "text": [
      "+----------------------+--------------------------------------------+-------------+-----------------------------------------------------+---------------+--------------------+----------------------+----------------------+\n",
      "|song_id               |song_name                                   |song_duration|song_url                                             |song_popularity|song_added          |album_id              |artist_id             |\n",
      "+----------------------+--------------------------------------------+-------------+-----------------------------------------------------+---------------+--------------------+----------------------+----------------------+\n",
      "|3vCzLB6kS2lGcIpm1OOUsy|Ishq Hai                                    |312857       |https://open.spotify.com/track/3vCzLB6kS2lGcIpm1OOUsy|78             |2024-12-21T06:12:39Z|75SlrAXlLbJN9LYJwlTJh6|0NbgKDsEHiPzZBZkqZGkXm|\n",
      "|1PDREqVNvmphIoNac3Vz8c|Sanam Teri Kasam                            |314000       |https://open.spotify.com/track/1PDREqVNvmphIoNac3Vz8c|74             |2025-02-07T19:20:02Z|2yYfIOq25JQWvUQ9AR172D|0sSxphmGskGCKlwB9xa6WU|\n",
      "|4vHRQnzGcKEtqsLH70tAms|Raanjhan (From \"Do Patti\")                  |240066       |https://open.spotify.com/track/4vHRQnzGcKEtqsLH70tAms|77             |2024-10-27T11:25:53Z|1poClftP5T3zRcqpsxPPfW|1SyKki7JI1AZNKwgNMkn25|\n",
      "|0eCajpR75pDW0r64U6hP2x|Jo Tum Mere Ho                              |251813       |https://open.spotify.com/track/0eCajpR75pDW0r64U6hP2x|77             |2024-09-03T11:30:13Z|0upenH0uUT36nBbVM5mQhW|4gdMJYnopf2nEUcanAwstx|\n",
      "|3trnNo4KeaUlFuUiV7iRCj|Tera Chehra                                 |274000       |https://open.spotify.com/track/3trnNo4KeaUlFuUiV7iRCj|72             |2025-02-08T12:44:04Z|2yYfIOq25JQWvUQ9AR172D|0sSxphmGskGCKlwB9xa6WU|\n",
      "|4XTgFBxBHN6var1BzAgE1m|Jhol                                        |265817       |https://open.spotify.com/track/4XTgFBxBHN6var1BzAgE1m|75             |2024-12-11T09:56:13Z|7grtFo2pj5wwRTM7c6NI9y|3scNK8e4mqnP6Rb8a3lwZY|\n",
      "|1qAxqKEpOeY9lkuXVSG60M|Kole Bheja                                  |126052       |https://open.spotify.com/track/1qAxqKEpOeY9lkuXVSG60M|48             |2024-08-27T20:30:26Z|6ZMuCAqePedPc7w0rRTQMO|5sgMlqIAv6QrTuXSgvteDt|\n",
      "|4ulroyDK6rN73nVkCkWhur|Sahiba                                      |217148       |https://open.spotify.com/track/4ulroyDK6rN73nVkCkWhur|77             |2024-11-29T14:31:43Z|5ZbqiWukRFxq8zwllvK3YT|74OaRjmyh0XyRZsQQQ5l7c|\n",
      "|4Qm7r3ImER8S2Ori1gLMAf|Afsos                                       |191752       |https://open.spotify.com/track/4Qm7r3ImER8S2Ori1gLMAf|75             |2025-02-07T19:12:11Z|0RaKe6idrXFUXsqxU4VmPa|4gdMJYnopf2nEUcanAwstx|\n",
      "|7hDoxkN20lLb06zifzYnD2|Ishq - From \"Lost;Found\"                    |228639       |https://open.spotify.com/track/7hDoxkN20lLb06zifzYnD2|69             |2024-08-14T17:04:02Z|49shWTH1llwLbKQ1bq1cvJ|05etL4pzWd6TSv1x5WrlG3|\n",
      "|4Lo6I7kkHWgAVRmdILLhig|Tu Hain Toh Main Hoon (From \"Sky Force\")    |247792       |https://open.spotify.com/track/4Lo6I7kkHWgAVRmdILLhig|73             |2025-01-31T17:10:48Z|7FiRTB1EBLdaarSWkxjvqC|4f7KfxeHq9BiylGmyXepGt|\n",
      "|0bK1LCMlZTcAzhl4qLewIs|Sitara                                      |186009       |https://open.spotify.com/track/0bK1LCMlZTcAzhl4qLewIs|52             |2024-11-15T18:56:40Z|4FjR8sS5OickJ0OkXmOEXX|4V0NivLTfgUFtB6OIxpSus|\n",
      "|5zCnGtCl5Ac5zlFHXaZmhy|Sajni (From \"Laapataa Ladies\")              |170044       |https://open.spotify.com/track/5zCnGtCl5Ac5zlFHXaZmhy|74             |2024-05-09T15:03:08Z|3I3kZyHUtEA9Y59rJkxtk6|3PpjqSKBer3obW6lDflOBx|\n",
      "|5GJ3WaxTSlxDY3csctX20H|Bewajah                                     |308000       |https://open.spotify.com/track/5GJ3WaxTSlxDY3csctX20H|72             |2025-02-14T13:54:08Z|2yYfIOq25JQWvUQ9AR172D|0sSxphmGskGCKlwB9xa6WU|\n",
      "|2Fv2injs4qAm8mJBGaxVKU|Tujhe Kitna Chahne Lage (From \"Kabir Singh\")|284779       |https://open.spotify.com/track/2Fv2injs4qAm8mJBGaxVKU|73             |2024-08-24T04:30:04Z|3I8PdIhk6pNm8Kv0HiF14V|4YRxDV8wJFPHPTeXepOstw|\n",
      "|5bQ6oDLqvw8tywmnSmwEyL|Apna Bana Le                                |261702       |https://open.spotify.com/track/5bQ6oDLqvw8tywmnSmwEyL|69             |2023-12-19T19:59:28Z|12sC6UjMWz6EaxnzyfCNMe|1mBydYMVBECdDmMfE2sEUO|\n",
      "|5JAJPFOm3cWy7DNvC26ub3|Kaaton                                      |155572       |https://open.spotify.com/track/5JAJPFOm3cWy7DNvC26ub3|46             |2025-01-29T18:41:23Z|4o56npry49dSKODtdRzWZM|5sgMlqIAv6QrTuXSgvteDt|\n",
      "|7eQl3Yqv35ioqUfveKHitE|Tum Se Hi                                   |321225       |https://open.spotify.com/track/7eQl3Yqv35ioqUfveKHitE|73             |2024-08-01T19:42:50Z|4OYdTHNgjhXzgVjbqsb0tO|1wRPtKGflJrBx9BmLsSwlU|\n",
      "|5AnWrUzsrFgBvhn6dUElnr|Aaj Ki Raat (From \"Stree 2\")                |228620       |https://open.spotify.com/track/5AnWrUzsrFgBvhn6dUElnr|73             |2024-08-14T17:01:38Z|2P2orRpVU0F2Z1HGTi7AiS|1mBydYMVBECdDmMfE2sEUO|\n",
      "|78BWCd70D1X6LMkDZm1UoF|Millionaire                                 |199114       |https://open.spotify.com/track/78BWCd70D1X6LMkDZm1UoF|74             |2024-09-28T19:22:13Z|5KF4xCxDD8ip003hoatFT9|7uIbLdzzSEqnX0Pkrb56cR|\n",
      "+----------------------+--------------------------------------------+-------------+-----------------------------------------------------+---------------+--------------------+----------------------+----------------------+\n",
      "only showing top 20 rows\n",
      "\n"
     ]
    }
   ],
   "source": [
    "df_songs.show(truncate=False)"
   ]
  },
  {
   "cell_type": "code",
   "execution_count": 104,
   "id": "c79d2f3d-5049-4d68-b48a-3c0f7f5a6f9d",
   "metadata": {},
   "outputs": [
    {
     "data": {
      "text/plain": [
       "DataFrame[artist_data: struct<external_urls:struct<spotify:string>,href:string,id:string,name:string,type:string,uri:string>]"
      ]
     },
     "execution_count": 104,
     "metadata": {},
     "output_type": "execute_result"
    }
   ],
   "source": [
    "# Artist df\n",
    "df_artists_temp = df_items.withColumn(\"artist_data\",explode(col(\"items.track.artists\")))\n",
    "df_artists = df_artists_temp.withColumn(\"artist_id\",col(\"artist_data.id\"))\\\n",
    "                            .withColumn(\"artist_name\",col(\"artist_data.name\")) \\\n",
    "                            .withColumn(\"external_url\",col(\"artist_data.href\"))\n",
    "df_artists.select(\"artist_data\")"
   ]
  },
  {
   "cell_type": "code",
   "execution_count": null,
   "id": "455e2cc9-9e33-4607-989b-9840d98ebb46",
   "metadata": {},
   "outputs": [],
   "source": []
  }
 ],
 "metadata": {
  "kernelspec": {
   "display_name": "Python 3 (ipykernel)",
   "language": "python",
   "name": "python3"
  },
  "language_info": {
   "codemirror_mode": {
    "name": "ipython",
    "version": 3
   },
   "file_extension": ".py",
   "mimetype": "text/x-python",
   "name": "python",
   "nbconvert_exporter": "python",
   "pygments_lexer": "ipython3",
   "version": "3.11.6"
  }
 },
 "nbformat": 4,
 "nbformat_minor": 5
}
